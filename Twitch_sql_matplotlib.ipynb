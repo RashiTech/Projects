{
  "nbformat": 4,
  "nbformat_minor": 0,
  "metadata": {
    "colab": {
      "name": "Twitch_sql_matplotlib.ipynb",
      "provenance": [],
      "collapsed_sections": [],
      "authorship_tag": "ABX9TyMRef0BQI8u0E0jSun77HP2",
      "include_colab_link": true
    },
    "kernelspec": {
      "name": "python3",
      "display_name": "Python 3"
    },
    "language_info": {
      "name": "python"
    }
  },
  "cells": [
    {
      "cell_type": "markdown",
      "metadata": {
        "id": "view-in-github",
        "colab_type": "text"
      },
      "source": [
        "<a href=\"https://colab.research.google.com/github/RashiTech/Projects/blob/main/Twitch_sql_matplotlib.ipynb\" target=\"_parent\"><img src=\"https://colab.research.google.com/assets/colab-badge.svg\" alt=\"Open In Colab\"/></a>"
      ]
    },
    {
      "cell_type": "code",
      "execution_count": null,
      "metadata": {
        "id": "2f7jsaG8Oy5Q"
      },
      "outputs": [],
      "source": [
        "import codecademylib3_seaborn\n",
        "from matplotlib import pyplot as plt\n",
        "import numpy as np\n",
        "import pandas as pd\n",
        "\n",
        "# Bar Graph: Featured Games\n",
        "\n",
        "games = [\"LoL\", \"Dota 2\", \"CS:GO\", \"DayZ\", \"HOS\", \"Isaac\", \"Shows\", \"Hearth\", \"WoT\", \"Agar.io\"]\n",
        "\n",
        "viewers =  [1070, 472, 302, 239, 210, 171, 170, 90, 86, 71]\n",
        "plt.bar(range(len(games)), viewers, color='brown' )\n",
        "plt.legend(['Twitch'])\n",
        "plt.title('Featured Games')\n",
        "plt.xlabel('games')\n",
        "plt.ylabel('No. of viewers')\n",
        "ax= plt.subplot()\n",
        "ax.set_xticks(range(len(games)))\n",
        "ax.set_xticklabels(games, rotation = 30)\n",
        "plt.show()\n",
        "\n",
        "# Pie Chart: League of Legends Viewers' Whereabouts\n",
        "plt.clf()\n",
        "labels = [\"US\", \"DE\", \"CA\", \"N/A\", \"GB\", \"TR\", \"BR\", \"DK\", \"PL\", \"BE\", \"NL\", \"Others\"]\n",
        "\n",
        "countries = [447, 66, 64, 49, 45, 28, 25, 20, 19, 17, 17, 279]\n",
        "colors = ['lightskyblue', 'gold',\n",
        " 'lightcoral', 'gainsboro', 'royalblue', \n",
        " 'lightpink', 'darkseagreen', 'sienna', \n",
        " 'khaki', 'gold', 'violet', 'yellowgreen']\n",
        "\n",
        "\n",
        "plt.pie(countries, colors= colors, explode = (0.1, 0, 0, 0, 0, 0, 0, 0, 0, 0, 0, 0), shadow=True, \n",
        "startangle =345, autopct ='%1.0f%%',pctdistance=1.15)\n",
        "plt.title(\"League of Legends Viewers' Whereabouts\")\n",
        "plt.legend(labels, loc=\"right\")\n",
        "\n",
        "\n",
        "plt.show()\n",
        "# Line Graph: Time Series Analysis\n",
        "plt.clf()\n",
        "hour = range(24)\n",
        "\n",
        "viewers_hour = [30, 17, 34, 29, 19, 14, 3, 2, 4, 9, 5, 48, 62, 58, 40, 51, 69, 55, 76, 81, 102, 120, 71, 63]\n",
        "plt.title(\"Time Series\")\n",
        " \n",
        "plt.xlabel(\"Hour\")\n",
        "plt.ylabel(\"Viewers\")\n",
        "\n",
        " \n",
        "plt.legend(['2015-01-01'])\n",
        " \n",
        "ax = plt.subplot()\n",
        " \n",
        "ax.set_xticks(hour)\n",
        "ax.set_yticks([0, 20, 40, 60, 80, 100, 120, 140])\n",
        "y_upper = [1.15*i for i in viewers_hour]\n",
        "y_lower = [.85*i for i in viewers_hour]\n",
        "plt.fill_between(hour, y_lower, y_upper, alpha =0.2)\n",
        "\n",
        "plt.plot(hour, viewers_hour)\n",
        "plt.show()\n"
      ]
    }
  ]
}